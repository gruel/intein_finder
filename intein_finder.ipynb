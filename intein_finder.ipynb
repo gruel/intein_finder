{
 "cells": [
  {
   "cell_type": "markdown",
   "metadata": {},
   "source": [
    "## Intein Finder\n",
    "\n",
    "Source code: https://github.com/omsai/intein_finder\n",
    "\n",
    "### Project goal\n",
    "\n",
    "Identify putative inteins in a given genome\n",
    "by training position weight matrices of known InBase inteins\n",
    "using PSI Blast or similar.\n",
    "\n",
    "### Suggestions\n",
    "\n",
    "- Focus on identifying splicing domains (A, B, F, G) and homing endonucleases (C, D, E, H);\n",
    "  not necessarily all the annotated domains which have lots of variation.\n",
    "- Then do a phylogeny of the homing endonucleases and see if they are really vertically inherited\n",
    "  or see if they horizontally jump back and forth and are the basis of some phylogenies.\n",
    "  \n",
    "[![Intein domains](http://www.biocenter.helsinki.fi/bi/iwai/InBase/tools.neb.com/inbase/blocks.gif)](http://www.biocenter.helsinki.fi/bi/iwai/InBase/tools.neb.com/inbase/motifs_splice.html)"
   ]
  },
  {
   "cell_type": "code",
   "execution_count": null,
   "metadata": {},
   "outputs": [],
   "source": [
    "from inbase import INBASE\n",
    "import pandas as pd\n",
    "from pprint import pprint\n",
    "\n",
    "pprint(INBASE.columns.tolist())"
   ]
  },
  {
   "cell_type": "markdown",
   "metadata": {},
   "source": [
    "## Cleanup motif  annotations\n",
    "\n",
    "- Remove invalid entries of blank values or dashes.\n",
    "- Split the numeric location of the protein motif from the motif sequence."
   ]
  },
  {
   "cell_type": "code",
   "execution_count": null,
   "metadata": {},
   "outputs": [],
   "source": [
    "cols_domain = [col for col in INBASE.columns if 'Block' in col]\n",
    "INBASE.loc[:, cols_domain].head()"
   ]
  },
  {
   "cell_type": "code",
   "execution_count": null,
   "metadata": {},
   "outputs": [],
   "source": [
    "temp = INBASE.loc[:, cols_domain].stack()\n",
    "valid = temp.str.match('[A-Z*?/ ]+[0-9]+')\n",
    "inbase = temp[valid].unstack()\n",
    "inbase.head()"
   ]
  },
  {
   "cell_type": "markdown",
   "metadata": {},
   "source": [
    "Split the location numbers from the domain strings."
   ]
  },
  {
   "cell_type": "code",
   "execution_count": null,
   "metadata": {},
   "outputs": [],
   "source": [
    "domains = pd.DataFrame()\n",
    "\n",
    "for col in cols_domain:\n",
    "    block = inbase[col]\n",
    "    col_new = col.replace(' ', '_')\n",
    "    block = block.str.extract('(?P<{block}>^[A-Z*?/]+)[ NC]*(?P<{loc}>[0-9]+$)'.format(\n",
    "            block=col_new, loc='Loc_' + col[-1]), expand=True)\n",
    "    domains = pd.concat([domains, block], axis=1)\n",
    "\n",
    "domains.head()"
   ]
  },
  {
   "cell_type": "markdown",
   "metadata": {},
   "source": [
    "Add our improved columns back into INBASE."
   ]
  },
  {
   "cell_type": "code",
   "execution_count": null,
   "metadata": {},
   "outputs": [],
   "source": [
    "if len(INBASE.columns) == len(set(cols_domain + INBASE.columns.tolist())):\n",
    "    INBASE = INBASE.drop(cols_domain, axis=1)\n",
    "    INBASE = pd.concat([INBASE, domains], axis=1)\n",
    "\n",
    "import re\n",
    "\n",
    "cols_splicing = [col for col in domains.columns if re.match('^Block_[A,B,F,G]$', col)]\n",
    "cols_endonuclease = [col for col in domains.columns if re.match('^Block_[C-E,H]$', col)]\n",
    "cols_both = cols_splicing + cols_endonuclease\n",
    "{'Splicing domains': cols_splicing, 'Endonuclease domains': cols_endonuclease}"
   ]
  },
  {
   "cell_type": "markdown",
   "metadata": {},
   "source": [
    "It looks like the endonuclease H domain is missing from the database."
   ]
  },
  {
   "cell_type": "markdown",
   "metadata": {},
   "source": [
    "### Experimental data\n",
    "\n",
    "- Would it be more accurate to only use experimentally validated inteins to train our PSI-Blast position weight matrix?\n",
    "- Is 90 inteins enough data?\n",
    "- Of those 90 inteins, 55 have the splicing domain, 47 have the homing endonuclease domain, and 47 have both."
   ]
  },
  {
   "cell_type": "code",
   "execution_count": null,
   "metadata": {},
   "outputs": [],
   "source": [
    "INBASE['Intein Class'].unique()"
   ]
  },
  {
   "cell_type": "code",
   "execution_count": null,
   "metadata": {},
   "outputs": [],
   "source": [
    "exp = INBASE[INBASE['Intein Class'] == 'Experimental']\n",
    "print('%d out of %d inteins (%d%%) were experimentally validated' % (\n",
    "        len(exp), len(INBASE), len(exp) * 100.0 / len(INBASE)))"
   ]
  },
  {
   "cell_type": "code",
   "execution_count": null,
   "metadata": {},
   "outputs": [],
   "source": [
    "print('Experimentally valid organism domains:')\n",
    "exp['Domain of Life'].value_counts()"
   ]
  },
  {
   "cell_type": "code",
   "execution_count": null,
   "metadata": {},
   "outputs": [],
   "source": [
    "has_all_splicing_domains = exp[cols_splicing].notna().apply(\n",
    "    lambda row: all(row[1:len(cols_splicing)]), axis=1)\n",
    "exp_splicing = exp[has_all_splicing_domains]\n",
    "print('%d out of %d experimentally validated inteins (%d%%) all have splicing domains' % (\n",
    "        len(exp_splicing), len(exp), len(exp_splicing) * 100.0 / len(exp)))\n",
    "exp_splicing['Domain of Life'].value_counts()"
   ]
  },
  {
   "cell_type": "code",
   "execution_count": null,
   "metadata": {},
   "outputs": [],
   "source": [
    "has_all_endonuclease_domains = exp[cols_endonuclease].notna().apply(\n",
    "    lambda row: all(row[1:len(cols_endonuclease)]), axis=1)\n",
    "exp_endonuclease = exp[has_all_endonuclease_domains]\n",
    "print('%d out of %d experimentally validated inteins (%d%%) all have endonuclease domains' % (\n",
    "        len(exp_endonuclease), len(exp), len(exp_endonuclease) * 100.0 / len(exp)))\n",
    "exp_endonuclease['Domain of Life'].value_counts()"
   ]
  },
  {
   "cell_type": "code",
   "execution_count": null,
   "metadata": {},
   "outputs": [],
   "source": [
    "has_all_intein_domains = has_all_splicing_domains & has_all_endonuclease_domains\n",
    "has_all_intein_domains.sum()"
   ]
  },
  {
   "cell_type": "code",
   "execution_count": null,
   "metadata": {},
   "outputs": [],
   "source": [
    "exp.loc[has_all_intein_domains, 'Domain of Life'].value_counts()"
   ]
  },
  {
   "cell_type": "code",
   "execution_count": null,
   "metadata": {},
   "outputs": [],
   "source": [
    "cols_summary = ['Domain of Life', 'Organism Name'] + cols_both\n",
    "exp.loc[has_all_intein_domains, cols_summary]"
   ]
  }
 ],
 "metadata": {
  "kernelspec": {
   "display_name": "Python 3",
   "language": "python3.5",
   "name": "python3"
  },
  "language_info": {
   "codemirror_mode": {
    "name": "ipython",
    "version": 3
   },
   "file_extension": ".py",
   "mimetype": "text/x-python",
   "name": "python",
   "nbconvert_exporter": "python",
   "pygments_lexer": "ipython3",
   "version": "3.5.4"
  }
 },
 "nbformat": 4,
 "nbformat_minor": 0
}
