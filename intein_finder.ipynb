{
 "cells": [
  {
   "cell_type": "markdown",
   "metadata": {},
   "source": [
    "# Intein Finder\n",
    "\n",
    "## Project goal\n",
    "\n",
    "Focus on splicing domain,\n",
    "not necessarily all the annotated domains which have lots of variation.\n",
    "\n",
    "## Broad goal\n",
    "\n",
    "Paul Lewis is a verticalist.\n",
    "His first thought is inteins evolved in a lineage, not horizontal gene transfer.\n",
    "Peter immediately sees horizontal gene transfer.\n",
    "It would be nice to have an algorithm to look at genomes and get homing endonucleases.\n",
    "Then do a phylogeny of the homing endonucleases and see if they are really vertically inherited\n",
    "or see if they jump back and forth and are the basis of some phylogenies."
   ]
  },
  {
   "cell_type": "code",
   "execution_count": null,
   "metadata": {},
   "outputs": [],
   "source": [
    "from inbase import INBASE\n",
    "from pprint import pprint\n",
    "\n",
    "pprint(INBASE.columns.tolist())"
   ]
  },
  {
   "cell_type": "code",
   "execution_count": null,
   "metadata": {},
   "outputs": [],
   "source": [
    "INBASE['Intein Class'].unique()"
   ]
  },
  {
   "cell_type": "code",
   "execution_count": null,
   "metadata": {},
   "outputs": [],
   "source": [
    "exp = INBASE[INBASE['Intein Class'] == 'Experimental']\n",
    "print('%d out of %d (%d%%) inteins are experimentally valid' % (len(exp), len(INBASE), len(exp) * 100.0 / len(INBASE)))"
   ]
  },
  {
   "cell_type": "code",
   "execution_count": null,
   "metadata": {},
   "outputs": [],
   "source": [
    "print('Experimentally valid data:')\n",
    "exp['Domain of Life'].value_counts()"
   ]
  },
  {
   "cell_type": "code",
   "execution_count": null,
   "metadata": {},
   "outputs": [],
   "source": [
    "INBASE.describe()"
   ]
  },
  {
   "cell_type": "markdown",
   "metadata": {},
   "source": [
    "### Cluster by the annotated protein domains\n",
    "\n",
    "We need to first cleanup on the annotations."
   ]
  },
  {
   "cell_type": "code",
   "execution_count": null,
   "metadata": {},
   "outputs": [],
   "source": [
    "cols_domain = [col for col in INBASE.columns if 'Block' in col]\n",
    "INBASE.loc[:, cols_domain].head(10)\n",
    "# Some of the cells contain invalid data; blank values or dashes.\n",
    "# Set invalid cells to None.\n",
    "temp = INBASE.loc[:, cols_domain].stack()\n",
    "valid = temp.str.match('[A-Z*?/ ]+[0-9]+')\n",
    "#from pprint import pprint\n",
    "#pprint(temp[~valid].values.tolist())\n",
    "inbase = temp[valid].unstack()\n",
    "inbase.head()"
   ]
  },
  {
   "cell_type": "markdown",
   "metadata": {},
   "source": [
    "Split the location numbers from the domain strings."
   ]
  },
  {
   "cell_type": "code",
   "execution_count": null,
   "metadata": {},
   "outputs": [],
   "source": [
    "import pandas as pd\n",
    "\n",
    "df = pd.DataFrame()\n",
    "\n",
    "for col in cols_domain:\n",
    "    block = inbase[col]\n",
    "    col_new = col.replace(' ', '_')\n",
    "    block = block.str.extract('(?P<{block}>^[A-Z*?/]+)[ NC]*(?P<{loc}>[0-9]+$)'.format(block=col_new, loc=col_new+'_loc'), expand=True)\n",
    "    df = pd.concat([df, block], axis=1)\n",
    "\n",
    "df"
   ]
  },
  {
   "cell_type": "markdown",
   "metadata": {},
   "source": [
    "Now we can cluster based on the annotated domains."
   ]
  },
  {
   "cell_type": "code",
   "execution_count": null,
   "metadata": {},
   "outputs": [],
   "source": [
    "df.groupby('Block_C').groups"
   ]
  }
 ],
 "metadata": {
  "kernelspec": {
   "display_name": "Python 3",
   "language": "python3.5",
   "name": "python3"
  },
  "language_info": {
   "codemirror_mode": {
    "name": "ipython",
    "version": 3
   },
   "file_extension": ".py",
   "mimetype": "text/x-python",
   "name": "python",
   "nbconvert_exporter": "python",
   "pygments_lexer": "ipython3",
   "version": "3.5.4"
  }
 },
 "nbformat": 4,
 "nbformat_minor": 0
}
