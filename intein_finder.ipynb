{
 "cells": [
  {
   "cell_type": "markdown",
   "metadata": {},
   "source": [
    "## Intein Finder\n",
    "\n",
    "Source code: https://github.com/omsai/intein_finder\n",
    "\n",
    "### Project goal\n",
    "\n",
    "Identify putative inteins in a given genome\n",
    "by training position weight matrices of known InBase inteins\n",
    "using PSI Blast or similar.\n",
    "\n",
    "### Suggestions\n",
    "\n",
    "- Focus on identifying splicing domain and homing endonucleases;\n",
    "  not necessarily all the annotated domains which have lots of variation.\n",
    "- Then do a phylogeny of the homing endonucleases and see if they are really vertically inherited\n",
    "  or see if they horizontally jump back and forth and are the basis of some phylogenies."
   ]
  },
  {
   "cell_type": "markdown",
   "metadata": {},
   "source": [
    "## Database summary\n",
    "\n",
    "Poke around the database:\n",
    "- List the available columns.\n",
    "- See how many inteins are experimentall valid.\n",
    "- Describe the columns."
   ]
  },
  {
   "cell_type": "code",
   "execution_count": null,
   "metadata": {},
   "outputs": [],
   "source": [
    "from inbase import INBASE\n",
    "import pandas as pd\n",
    "from pprint import pprint\n",
    "\n",
    "pprint(INBASE.columns.tolist())"
   ]
  },
  {
   "cell_type": "markdown",
   "metadata": {},
   "source": [
    "### Experimental data\n",
    "\n",
    "Would it be more accurate to only use experimentally validated inteins to train our PSI-Blast position weight matrix?\n",
    "Is there enough data?"
   ]
  },
  {
   "cell_type": "code",
   "execution_count": null,
   "metadata": {},
   "outputs": [],
   "source": [
    "INBASE['Intein Class'].unique()"
   ]
  },
  {
   "cell_type": "code",
   "execution_count": null,
   "metadata": {},
   "outputs": [],
   "source": [
    "exp = INBASE[INBASE['Intein Class'] == 'Experimental']\n",
    "print('%d out of %d (%d%%) inteins are experimentally valid' % (len(exp), len(INBASE), len(exp) * 100.0 / len(INBASE)))"
   ]
  },
  {
   "cell_type": "code",
   "execution_count": null,
   "metadata": {},
   "outputs": [],
   "source": [
    "print('Experimentally valid data:')\n",
    "exp['Domain of Life'].value_counts()"
   ]
  },
  {
   "cell_type": "markdown",
   "metadata": {},
   "source": [
    "Overview of the other columns:"
   ]
  },
  {
   "cell_type": "code",
   "execution_count": null,
   "metadata": {},
   "outputs": [],
   "source": [
    "INBASE.describe()"
   ]
  },
  {
   "cell_type": "markdown",
   "metadata": {},
   "source": [
    "## Cluster by the annotated protein domains\n",
    "\n",
    "We need to first cleanup the annotations:\n",
    "- Remove invalid entries.\n",
    "- Split the numeric location of the protein motif from the motif sequence."
   ]
  },
  {
   "cell_type": "code",
   "execution_count": null,
   "metadata": {},
   "outputs": [],
   "source": [
    "cols_domain = [col for col in INBASE.columns if 'Block' in col]\n",
    "INBASE.loc[:, cols_domain].head(10)\n",
    "# Some of the cells contain invalid data; blank values or dashes.\n",
    "# Set invalid cells to None.\n",
    "temp = INBASE.loc[:, cols_domain].stack()\n",
    "valid = temp.str.match('[A-Z*?/ ]+[0-9]+')\n",
    "#from pprint import pprint\n",
    "#pprint(temp[~valid].values.tolist())\n",
    "inbase = temp[valid].unstack()\n",
    "inbase.head()"
   ]
  },
  {
   "cell_type": "markdown",
   "metadata": {},
   "source": [
    "Split the location numbers from the domain strings."
   ]
  },
  {
   "cell_type": "code",
   "execution_count": null,
   "metadata": {},
   "outputs": [],
   "source": [
    "df = pd.DataFrame()\n",
    "\n",
    "for col in cols_domain:\n",
    "    block = inbase[col]\n",
    "    col_new = col.replace(' ', '_')\n",
    "    block = block.str.extract('(?P<{block}>^[A-Z*?/]+)[ NC]*(?P<{loc}>[0-9]+$)'.format(block=col_new, loc=col_new+'_loc'), expand=True)\n",
    "    df = pd.concat([df, block], axis=1)\n",
    "\n",
    "df"
   ]
  },
  {
   "cell_type": "markdown",
   "metadata": {},
   "source": [
    "Now we can cluster based on the annotated domains."
   ]
  },
  {
   "cell_type": "code",
   "execution_count": null,
   "metadata": {},
   "outputs": [],
   "source": [
    "df.groupby('Block_C').groups"
   ]
  }
 ],
 "metadata": {
  "kernelspec": {
   "display_name": "Python 3",
   "language": "python3.5",
   "name": "python3"
  },
  "language_info": {
   "codemirror_mode": {
    "name": "ipython",
    "version": 3
   },
   "file_extension": ".py",
   "mimetype": "text/x-python",
   "name": "python",
   "nbconvert_exporter": "python",
   "pygments_lexer": "ipython3",
   "version": "3.5.4"
  }
 },
 "nbformat": 4,
 "nbformat_minor": 0
}
